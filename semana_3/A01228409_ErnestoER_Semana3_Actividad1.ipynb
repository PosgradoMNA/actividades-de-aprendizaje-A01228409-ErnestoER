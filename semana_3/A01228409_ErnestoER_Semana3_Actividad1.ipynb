{
  "nbformat": 4,
  "nbformat_minor": 0,
  "metadata": {
    "colab": {
      "provenance": [],
      "authorship_tag": "ABX9TyPAvtfRnV3OSslsEZknXpBh",
      "include_colab_link": true
    },
    "kernelspec": {
      "name": "python3",
      "display_name": "Python 3"
    },
    "language_info": {
      "name": "python"
    }
  },
  "cells": [
    {
      "cell_type": "markdown",
      "metadata": {
        "id": "view-in-github",
        "colab_type": "text"
      },
      "source": [
        "<a href=\"https://colab.research.google.com/github/PosgradoMNA/actividades-de-aprendizaje-A01228409-ErnestoER/blob/main/semana_3/A01228409_ErnestoER_Semana3_Actividad1.ipynb\" target=\"_parent\"><img src=\"https://colab.research.google.com/assets/colab-badge.svg\" alt=\"Open In Colab\"/></a>"
      ]
    },
    {
      "cell_type": "markdown",
      "source": [
        "# **Semana 3 - Actividad 1**\n",
        "\n",
        "**Ernesto Enriquez Rubio**\n",
        "\n",
        "**A01228409**\n",
        "\n",
        "**Ciencia y analítica de datos**\n",
        "\n",
        "**Jobish Vallikavungal Devassia**\n",
        "\n",
        "**04 de Octubre del 2022**"
      ],
      "metadata": {
        "id": "EhYQchamyqMA"
      }
    },
    {
      "cell_type": "markdown",
      "source": [
        "# Parte 1: Fundamentos de bases de datos"
      ],
      "metadata": {
        "id": "KBhaiD_izleP"
      }
    },
    {
      "cell_type": "markdown",
      "source": [
        "**1.\tFundamentos de bases de datos y para ciencia de datos.**\n",
        "\n",
        "  Una base de datos se define como el conjunto estructura de datos guardados en la memoria de una computadora o en la nube al que se puede acceder de varias maneras. La colección y análisis de datos es una de las formas de personalizar la experiencia del usuario, de forma que se puede crear productos que se adapten a la mayoría. Las bases de datos se pueden clasificar en dos tipos: base de datos relacionales, los datos se organizan y almacenan en tablas que se pueden vincular entre sí mediante alguna relación, la forma de comunicarse e interactuar con las bases de datos relacionales es por medio de SQL; y base de datos no relacionales (NoSQL), las cuales conectan la información almacenada en categorías más que por relaciones.\n",
        "  \n",
        "**2.\tFundamentos de almacenes de datos (Data Warehouse) para ciencia de datos.**\n",
        "\n",
        "  El almacenamiento de datos es un sistema para el manejo de datos, cuyo propósito principal es habilitar y apoyar a las actividades de los negocios inteligentes, es decir, aquellos que aplican técnicas avanzadas para el análisis de su campo. Usualmente contienen una gran cantidad de información recolectada a por amplios periodos de tiempo, esto ayuda a centralizar y consolidar la información con el fin de utilizarla para la comprensión y predicción de diferentes situaciones. Para el científico informático William Inmon, hay cuatro características únicas que poseen los almacenes de datos: Orientación a un tema, contiene datos sobre un tema o área funcional en particular; integral, crean consistencia entre tipos de datos provenientes de diferentes fuentes; no volátiles, los datos almacenados son estables y no cambian; y variantes de tiempo, se analiza la variación en los datos a lo largo del tiempo.\n"
      ],
      "metadata": {
        "id": "yM8B3VyTz18u"
      }
    },
    {
      "cell_type": "markdown",
      "source": [
        "# **Parte 2: Selección y limpieza de los Datos en Python**"
      ],
      "metadata": {
        "id": "Psc4TDFm9_Rs"
      }
    },
    {
      "cell_type": "code",
      "source": [
        "# Importar librería de pandas para manejo de DataFrames\n",
        "import pandas as pd\n",
        "import numpy as np"
      ],
      "metadata": {
        "id": "3-YTjOvkAlNZ"
      },
      "execution_count": 168,
      "outputs": []
    },
    {
      "cell_type": "code",
      "execution_count": 169,
      "metadata": {
        "colab": {
          "base_uri": "https://localhost:8080/",
          "height": 267
        },
        "id": "nf6hWUxPyN5d",
        "outputId": "6fb50e53-44d8-4832-cf69-025f480403a2"
      },
      "outputs": [
        {
          "output_type": "execute_result",
          "data": {
            "text/plain": [
              "        X1   X2   X3   X4    X5   X6   X7   X8   X9  X10  ...      X15  \\\n",
              "ID                                                        ...            \n",
              "1    20000  2.0  2.0  1.0  24.0  2.0  2.0 -1.0 -1.0 -2.0  ...      0.0   \n",
              "2   120000  2.0  2.0  2.0  26.0 -1.0  2.0  0.0  0.0  0.0  ...   3272.0   \n",
              "3    90000  2.0  2.0  2.0  34.0  0.0  0.0  0.0  0.0  0.0  ...  14331.0   \n",
              "4    50000  2.0  2.0  1.0  37.0  0.0  0.0  0.0  0.0  0.0  ...  28314.0   \n",
              "5    50000  1.0  2.0  1.0  57.0 -1.0  0.0 -1.0  0.0  0.0  ...  20940.0   \n",
              "\n",
              "        X16      X17     X18      X19      X20     X21     X22     X23    Y  \n",
              "ID                                                                           \n",
              "1       0.0      0.0     0.0    689.0      0.0     0.0     0.0     0.0  1.0  \n",
              "2    3455.0   3261.0     0.0   1000.0   1000.0  1000.0     0.0  2000.0  1.0  \n",
              "3   14948.0  15549.0  1518.0   1500.0   1000.0  1000.0  1000.0  5000.0  0.0  \n",
              "4   28959.0  29547.0  2000.0   2019.0   1200.0  1100.0  1069.0  1000.0  0.0  \n",
              "5   19146.0  19131.0  2000.0  36681.0  10000.0  9000.0   689.0   679.0  0.0  \n",
              "\n",
              "[5 rows x 24 columns]"
            ],
            "text/html": [
              "\n",
              "  <div id=\"df-57459e6e-9fc0-414f-9db4-53719fd9bee2\">\n",
              "    <div class=\"colab-df-container\">\n",
              "      <div>\n",
              "<style scoped>\n",
              "    .dataframe tbody tr th:only-of-type {\n",
              "        vertical-align: middle;\n",
              "    }\n",
              "\n",
              "    .dataframe tbody tr th {\n",
              "        vertical-align: top;\n",
              "    }\n",
              "\n",
              "    .dataframe thead th {\n",
              "        text-align: right;\n",
              "    }\n",
              "</style>\n",
              "<table border=\"1\" class=\"dataframe\">\n",
              "  <thead>\n",
              "    <tr style=\"text-align: right;\">\n",
              "      <th></th>\n",
              "      <th>X1</th>\n",
              "      <th>X2</th>\n",
              "      <th>X3</th>\n",
              "      <th>X4</th>\n",
              "      <th>X5</th>\n",
              "      <th>X6</th>\n",
              "      <th>X7</th>\n",
              "      <th>X8</th>\n",
              "      <th>X9</th>\n",
              "      <th>X10</th>\n",
              "      <th>...</th>\n",
              "      <th>X15</th>\n",
              "      <th>X16</th>\n",
              "      <th>X17</th>\n",
              "      <th>X18</th>\n",
              "      <th>X19</th>\n",
              "      <th>X20</th>\n",
              "      <th>X21</th>\n",
              "      <th>X22</th>\n",
              "      <th>X23</th>\n",
              "      <th>Y</th>\n",
              "    </tr>\n",
              "    <tr>\n",
              "      <th>ID</th>\n",
              "      <th></th>\n",
              "      <th></th>\n",
              "      <th></th>\n",
              "      <th></th>\n",
              "      <th></th>\n",
              "      <th></th>\n",
              "      <th></th>\n",
              "      <th></th>\n",
              "      <th></th>\n",
              "      <th></th>\n",
              "      <th></th>\n",
              "      <th></th>\n",
              "      <th></th>\n",
              "      <th></th>\n",
              "      <th></th>\n",
              "      <th></th>\n",
              "      <th></th>\n",
              "      <th></th>\n",
              "      <th></th>\n",
              "      <th></th>\n",
              "      <th></th>\n",
              "    </tr>\n",
              "  </thead>\n",
              "  <tbody>\n",
              "    <tr>\n",
              "      <th>1</th>\n",
              "      <td>20000</td>\n",
              "      <td>2.0</td>\n",
              "      <td>2.0</td>\n",
              "      <td>1.0</td>\n",
              "      <td>24.0</td>\n",
              "      <td>2.0</td>\n",
              "      <td>2.0</td>\n",
              "      <td>-1.0</td>\n",
              "      <td>-1.0</td>\n",
              "      <td>-2.0</td>\n",
              "      <td>...</td>\n",
              "      <td>0.0</td>\n",
              "      <td>0.0</td>\n",
              "      <td>0.0</td>\n",
              "      <td>0.0</td>\n",
              "      <td>689.0</td>\n",
              "      <td>0.0</td>\n",
              "      <td>0.0</td>\n",
              "      <td>0.0</td>\n",
              "      <td>0.0</td>\n",
              "      <td>1.0</td>\n",
              "    </tr>\n",
              "    <tr>\n",
              "      <th>2</th>\n",
              "      <td>120000</td>\n",
              "      <td>2.0</td>\n",
              "      <td>2.0</td>\n",
              "      <td>2.0</td>\n",
              "      <td>26.0</td>\n",
              "      <td>-1.0</td>\n",
              "      <td>2.0</td>\n",
              "      <td>0.0</td>\n",
              "      <td>0.0</td>\n",
              "      <td>0.0</td>\n",
              "      <td>...</td>\n",
              "      <td>3272.0</td>\n",
              "      <td>3455.0</td>\n",
              "      <td>3261.0</td>\n",
              "      <td>0.0</td>\n",
              "      <td>1000.0</td>\n",
              "      <td>1000.0</td>\n",
              "      <td>1000.0</td>\n",
              "      <td>0.0</td>\n",
              "      <td>2000.0</td>\n",
              "      <td>1.0</td>\n",
              "    </tr>\n",
              "    <tr>\n",
              "      <th>3</th>\n",
              "      <td>90000</td>\n",
              "      <td>2.0</td>\n",
              "      <td>2.0</td>\n",
              "      <td>2.0</td>\n",
              "      <td>34.0</td>\n",
              "      <td>0.0</td>\n",
              "      <td>0.0</td>\n",
              "      <td>0.0</td>\n",
              "      <td>0.0</td>\n",
              "      <td>0.0</td>\n",
              "      <td>...</td>\n",
              "      <td>14331.0</td>\n",
              "      <td>14948.0</td>\n",
              "      <td>15549.0</td>\n",
              "      <td>1518.0</td>\n",
              "      <td>1500.0</td>\n",
              "      <td>1000.0</td>\n",
              "      <td>1000.0</td>\n",
              "      <td>1000.0</td>\n",
              "      <td>5000.0</td>\n",
              "      <td>0.0</td>\n",
              "    </tr>\n",
              "    <tr>\n",
              "      <th>4</th>\n",
              "      <td>50000</td>\n",
              "      <td>2.0</td>\n",
              "      <td>2.0</td>\n",
              "      <td>1.0</td>\n",
              "      <td>37.0</td>\n",
              "      <td>0.0</td>\n",
              "      <td>0.0</td>\n",
              "      <td>0.0</td>\n",
              "      <td>0.0</td>\n",
              "      <td>0.0</td>\n",
              "      <td>...</td>\n",
              "      <td>28314.0</td>\n",
              "      <td>28959.0</td>\n",
              "      <td>29547.0</td>\n",
              "      <td>2000.0</td>\n",
              "      <td>2019.0</td>\n",
              "      <td>1200.0</td>\n",
              "      <td>1100.0</td>\n",
              "      <td>1069.0</td>\n",
              "      <td>1000.0</td>\n",
              "      <td>0.0</td>\n",
              "    </tr>\n",
              "    <tr>\n",
              "      <th>5</th>\n",
              "      <td>50000</td>\n",
              "      <td>1.0</td>\n",
              "      <td>2.0</td>\n",
              "      <td>1.0</td>\n",
              "      <td>57.0</td>\n",
              "      <td>-1.0</td>\n",
              "      <td>0.0</td>\n",
              "      <td>-1.0</td>\n",
              "      <td>0.0</td>\n",
              "      <td>0.0</td>\n",
              "      <td>...</td>\n",
              "      <td>20940.0</td>\n",
              "      <td>19146.0</td>\n",
              "      <td>19131.0</td>\n",
              "      <td>2000.0</td>\n",
              "      <td>36681.0</td>\n",
              "      <td>10000.0</td>\n",
              "      <td>9000.0</td>\n",
              "      <td>689.0</td>\n",
              "      <td>679.0</td>\n",
              "      <td>0.0</td>\n",
              "    </tr>\n",
              "  </tbody>\n",
              "</table>\n",
              "<p>5 rows × 24 columns</p>\n",
              "</div>\n",
              "      <button class=\"colab-df-convert\" onclick=\"convertToInteractive('df-57459e6e-9fc0-414f-9db4-53719fd9bee2')\"\n",
              "              title=\"Convert this dataframe to an interactive table.\"\n",
              "              style=\"display:none;\">\n",
              "        \n",
              "  <svg xmlns=\"http://www.w3.org/2000/svg\" height=\"24px\"viewBox=\"0 0 24 24\"\n",
              "       width=\"24px\">\n",
              "    <path d=\"M0 0h24v24H0V0z\" fill=\"none\"/>\n",
              "    <path d=\"M18.56 5.44l.94 2.06.94-2.06 2.06-.94-2.06-.94-.94-2.06-.94 2.06-2.06.94zm-11 1L8.5 8.5l.94-2.06 2.06-.94-2.06-.94L8.5 2.5l-.94 2.06-2.06.94zm10 10l.94 2.06.94-2.06 2.06-.94-2.06-.94-.94-2.06-.94 2.06-2.06.94z\"/><path d=\"M17.41 7.96l-1.37-1.37c-.4-.4-.92-.59-1.43-.59-.52 0-1.04.2-1.43.59L10.3 9.45l-7.72 7.72c-.78.78-.78 2.05 0 2.83L4 21.41c.39.39.9.59 1.41.59.51 0 1.02-.2 1.41-.59l7.78-7.78 2.81-2.81c.8-.78.8-2.07 0-2.86zM5.41 20L4 18.59l7.72-7.72 1.47 1.35L5.41 20z\"/>\n",
              "  </svg>\n",
              "      </button>\n",
              "      \n",
              "  <style>\n",
              "    .colab-df-container {\n",
              "      display:flex;\n",
              "      flex-wrap:wrap;\n",
              "      gap: 12px;\n",
              "    }\n",
              "\n",
              "    .colab-df-convert {\n",
              "      background-color: #E8F0FE;\n",
              "      border: none;\n",
              "      border-radius: 50%;\n",
              "      cursor: pointer;\n",
              "      display: none;\n",
              "      fill: #1967D2;\n",
              "      height: 32px;\n",
              "      padding: 0 0 0 0;\n",
              "      width: 32px;\n",
              "    }\n",
              "\n",
              "    .colab-df-convert:hover {\n",
              "      background-color: #E2EBFA;\n",
              "      box-shadow: 0px 1px 2px rgba(60, 64, 67, 0.3), 0px 1px 3px 1px rgba(60, 64, 67, 0.15);\n",
              "      fill: #174EA6;\n",
              "    }\n",
              "\n",
              "    [theme=dark] .colab-df-convert {\n",
              "      background-color: #3B4455;\n",
              "      fill: #D2E3FC;\n",
              "    }\n",
              "\n",
              "    [theme=dark] .colab-df-convert:hover {\n",
              "      background-color: #434B5C;\n",
              "      box-shadow: 0px 1px 3px 1px rgba(0, 0, 0, 0.15);\n",
              "      filter: drop-shadow(0px 1px 2px rgba(0, 0, 0, 0.3));\n",
              "      fill: #FFFFFF;\n",
              "    }\n",
              "  </style>\n",
              "\n",
              "      <script>\n",
              "        const buttonEl =\n",
              "          document.querySelector('#df-57459e6e-9fc0-414f-9db4-53719fd9bee2 button.colab-df-convert');\n",
              "        buttonEl.style.display =\n",
              "          google.colab.kernel.accessAllowed ? 'block' : 'none';\n",
              "\n",
              "        async function convertToInteractive(key) {\n",
              "          const element = document.querySelector('#df-57459e6e-9fc0-414f-9db4-53719fd9bee2');\n",
              "          const dataTable =\n",
              "            await google.colab.kernel.invokeFunction('convertToInteractive',\n",
              "                                                     [key], {});\n",
              "          if (!dataTable) return;\n",
              "\n",
              "          const docLinkHtml = 'Like what you see? Visit the ' +\n",
              "            '<a target=\"_blank\" href=https://colab.research.google.com/notebooks/data_table.ipynb>data table notebook</a>'\n",
              "            + ' to learn more about interactive tables.';\n",
              "          element.innerHTML = '';\n",
              "          dataTable['output_type'] = 'display_data';\n",
              "          await google.colab.output.renderOutput(dataTable, element);\n",
              "          const docLink = document.createElement('div');\n",
              "          docLink.innerHTML = docLinkHtml;\n",
              "          element.appendChild(docLink);\n",
              "        }\n",
              "      </script>\n",
              "    </div>\n",
              "  </div>\n",
              "  "
            ]
          },
          "metadata": {},
          "execution_count": 169
        }
      ],
      "source": [
        "# Lectura de base de datos\n",
        "df = pd.read_csv('https://raw.githubusercontent.com/PosgradoMNA/Actividades_Aprendizaje-/main/default%20of%20credit%20card%20clients.csv', index_col=0)\n",
        "df.head()"
      ]
    },
    {
      "cell_type": "code",
      "source": [
        "# Verificar si hay valores perdidos\n",
        "print(df.isnull().any())\n",
        "print(df.isna().any())"
      ],
      "metadata": {
        "colab": {
          "base_uri": "https://localhost:8080/"
        },
        "id": "RmOcHBW3BXIe",
        "outputId": "685ae883-504d-42d0-8a09-05ce5b1912dd"
      },
      "execution_count": 170,
      "outputs": [
        {
          "output_type": "stream",
          "name": "stdout",
          "text": [
            "X1     False\n",
            "X2      True\n",
            "X3      True\n",
            "X4      True\n",
            "X5      True\n",
            "X6      True\n",
            "X7      True\n",
            "X8      True\n",
            "X9      True\n",
            "X10     True\n",
            "X11     True\n",
            "X12     True\n",
            "X13     True\n",
            "X14     True\n",
            "X15     True\n",
            "X16     True\n",
            "X17     True\n",
            "X18     True\n",
            "X19     True\n",
            "X20     True\n",
            "X21     True\n",
            "X22     True\n",
            "X23     True\n",
            "Y       True\n",
            "dtype: bool\n",
            "X1     False\n",
            "X2      True\n",
            "X3      True\n",
            "X4      True\n",
            "X5      True\n",
            "X6      True\n",
            "X7      True\n",
            "X8      True\n",
            "X9      True\n",
            "X10     True\n",
            "X11     True\n",
            "X12     True\n",
            "X13     True\n",
            "X14     True\n",
            "X15     True\n",
            "X16     True\n",
            "X17     True\n",
            "X18     True\n",
            "X19     True\n",
            "X20     True\n",
            "X21     True\n",
            "X22     True\n",
            "X23     True\n",
            "Y       True\n",
            "dtype: bool\n"
          ]
        }
      ]
    },
    {
      "cell_type": "markdown",
      "source": [
        "Se observa que hay valores perdidos en la mayoria de las columnas (x2-x23, y). Es importante conocer que tipo de valor tienen estas columanas para poder hacer una limpieza adecuada.\n",
        "\n",
        "*   X1: Amount of the given credit (NT dollar)\n",
        "*   X2: Gender (1 = male; 2 = female). \n",
        "*   X3: Education (1 = graduate school; 2 = university; 3 = high school; 4 = others). \n",
        "*   X4: Marital status (1 = married; 2 = single; 3 = others). \n",
        "*   X5: Age (year).\n",
        "\n",
        "**X6-x11 past monthly payment records (from April to September, 2005)**\n",
        "\n",
        "**repayment status:** \n",
        "* **-1 = pay duly;** \n",
        "* **1 = payment delay for one month;** \n",
        "* **2 = payment delay for two months;** \n",
        "* **8 = payment delay for eight months;**\n",
        "* **9 = payment delay for nine months and above.**\n",
        "\n",
        "*   X6: the repayment status in September, 2005; \n",
        "*   x11: the repayment status in April, 2005\n",
        "\n",
        "**X12-X17: Amount of bill statement (NT dollar).**\n",
        "*   X12: amount of bill statement in September, 2005.\n",
        "*   X17: amount of bill statement in April, 2005.\n",
        "\n",
        "**X18-X23: Amount of previous payment (NT dollar).**\n",
        "\n",
        "*   X18: amount paid in September, 2005\n",
        "*   X23: mount paid in April, 2005\n",
        "\n",
        "**Y: representa la salida del modelo donde 1 es aprobada y 0 no aprobada**\n",
        "\n",
        "\n",
        "\n"
      ],
      "metadata": {
        "id": "dtj9a8RpCO2T"
      }
    },
    {
      "cell_type": "code",
      "source": [
        "# Función para imprimir reducción de valores en el DataFrame\n",
        "def print_df_reduction(modified_df):\n",
        "  # Cantidad de datos que contiene el DataFrame\n",
        "  print('Tamaño de dataframe original: ', df.size)\n",
        "  print('Tamaño de DataFrame al quitar filas con valores faltantes: ',\n",
        "      modified_df.size)\n",
        "\n",
        "  print('Filas removidas: ', (df.size-modified_df.size))\n",
        "  print('Porcentaje removido: ', \n",
        "        (df.size-modified_df.size)/df.size*100)\n"
      ],
      "metadata": {
        "id": "9j23_OhpNKgy"
      },
      "execution_count": 171,
      "outputs": []
    },
    {
      "cell_type": "code",
      "source": [
        "# Revisar cuantos datos se perderian si se quitan las filas \n",
        "# con información faltante\n",
        "drop_missing_data_rows = df.copy()\n",
        "drop_missing_data_rows.dropna(inplace = True)\n",
        "print('Existen valores NA: ', drop_missing_data_rows.isna().values.any())\n",
        "print('Hay casillas sin valores: ', \n",
        "      drop_missing_data_rows.isnull().values.any())\n",
        "print_df_reduction(drop_missing_data_rows)\n"
      ],
      "metadata": {
        "colab": {
          "base_uri": "https://localhost:8080/"
        },
        "id": "0QOmiCacHNH-",
        "outputId": "26ce84f9-1dd4-4dbc-dbfb-5cbd98cd11d1"
      },
      "execution_count": 172,
      "outputs": [
        {
          "output_type": "stream",
          "name": "stdout",
          "text": [
            "Existen valores NA:  False\n",
            "Hay casillas sin valores:  False\n",
            "Tamaño de dataframe original:  720000\n",
            "Tamaño de DataFrame al quitar filas con valores faltantes:  718992\n",
            "Filas removidas:  1008\n",
            "Porcentaje removido:  0.13999999999999999\n"
          ]
        }
      ]
    },
    {
      "cell_type": "markdown",
      "source": [
        "Dado que la base de datos que se esta utilizando cuenta con un gran número de datos, quitar las filas que le falten datos solo representaría reducir el DataFrame en 0.14%, lo cual se podría decir que es insignificativo. Sin embargo, algunas columanas se podrían colocar valores generales, como en el caso de educación, en el cual se puede poner un 4 que representa otro; y estado civil, que podría ser un 3 que representa otro."
      ],
      "metadata": {
        "id": "o-9Nm_0-JSCJ"
      }
    },
    {
      "cell_type": "code",
      "source": [
        "filled_df = df.copy()\n",
        "filled_df['X3'].fillna(value = 4, \n",
        "                       inplace = True)\n",
        "filled_df['X4'].fillna(value = 3, \n",
        "                       inplace = True)"
      ],
      "metadata": {
        "id": "jdWP_9iVM6y2"
      },
      "execution_count": 173,
      "outputs": []
    },
    {
      "cell_type": "markdown",
      "source": [
        "Revisamos que columnas tienen mayor cantidad de datos perdidos."
      ],
      "metadata": {
        "id": "FoYDydanIWgm"
      }
    },
    {
      "cell_type": "code",
      "source": [
        "filled_df.isnull().sum()"
      ],
      "metadata": {
        "colab": {
          "base_uri": "https://localhost:8080/"
        },
        "id": "6WRwxl6kBorz",
        "outputId": "ad73e5e6-e07d-4831-ed67-27ad24db468b"
      },
      "execution_count": 174,
      "outputs": [
        {
          "output_type": "execute_result",
          "data": {
            "text/plain": [
              "X1      0\n",
              "X2      1\n",
              "X3      0\n",
              "X4      0\n",
              "X5      5\n",
              "X6      3\n",
              "X7      5\n",
              "X8      7\n",
              "X9      9\n",
              "X10    16\n",
              "X11    14\n",
              "X12    11\n",
              "X13    11\n",
              "X14    13\n",
              "X15    15\n",
              "X16    17\n",
              "X17    10\n",
              "X18     8\n",
              "X19     9\n",
              "X20     8\n",
              "X21    11\n",
              "X22    11\n",
              "X23     5\n",
              "Y       3\n",
              "dtype: int64"
            ]
          },
          "metadata": {},
          "execution_count": 174
        }
      ]
    },
    {
      "cell_type": "markdown",
      "source": [
        "No obstante, rellenando las columnas X3 y X4 se logró disminuir la cantidad de datos eliminados, por lo que se puede utilizar promedios para las columnas que tienen relación como serían X6-X11, X12-X17, y X18-X23"
      ],
      "metadata": {
        "id": "tf36Hdu0ABtd"
      }
    },
    {
      "cell_type": "code",
      "source": [
        "# Buscamos la posión en donde se encuentran los datos faltantes\n",
        "null_values_position = {}\n",
        "columns = ['X6', 'X7', 'X8', 'X9', 'X10', 'X11']\n",
        "for column in columns:\n",
        "  null_values_position[column] = []\n",
        "  for idx, value in enumerate(filled_df[column].isnull()):\n",
        "    if value:\n",
        "      null_values_position[column].append(idx)\n",
        "print('Indexes de columnas con valores vacios: ', null_values_position)\n",
        "\n",
        "# Revisamos en que columnas no hay valores para hacer un promedio\n",
        "indexes_without_vals = []\n",
        "indexes_with_vals = []\n",
        "for indexes in null_values_position.values():\n",
        "  for index in indexes:\n",
        "    for indexes in null_values_position.values():\n",
        "      if index not in indexes:\n",
        "        if index not in indexes_with_vals:\n",
        "          indexes_with_vals.append(index)\n",
        "        break\n",
        "    else:\n",
        "      if index not in indexes_without_vals:\n",
        "        indexes_without_vals.append(index)\n",
        "# Contruimos las listas de los indexes que tienen valores y los que no hay valores\n",
        "print('Indexes que contienen valores: ', indexes_with_vals)\n",
        "print('Indexes que no contienen valores en todas las columnas: ',\n",
        "      indexes_without_vals)\n",
        "\n",
        "# Para los otros indexes rellanamos los valores con la media debido a que \n",
        "# son valores enteros este tipo de columnas\n",
        "for index in indexes_with_vals:\n",
        "  values_to_median = []\n",
        "  for column in columns:\n",
        "    if index in null_values_position[column]:\n",
        "      continue\n",
        "    values_to_median.append(filled_df[column].iloc[index])\n",
        "  median_value = np.median(values_to_median)\n",
        "  for column in columns:\n",
        "    if index in null_values_position[column]:\n",
        "      #filled_df.loc[index, column] = median_value\n",
        "      filled_df.replace({filled_df.at[index, column]:median_value},\n",
        "                        inplace=True)"
      ],
      "metadata": {
        "colab": {
          "base_uri": "https://localhost:8080/"
        },
        "id": "ACjUhmnwDDbC",
        "outputId": "15894f33-d232-44de-b569-749274ac5806"
      },
      "execution_count": 175,
      "outputs": [
        {
          "output_type": "stream",
          "name": "stdout",
          "text": [
            "Indexes de columnas con valores vacios:  {'X6': [6227, 24123, 24365], 'X7': [6227, 24123, 24365, 29832, 29833], 'X8': [6227, 17989, 18003, 24123, 24365, 29832, 29833], 'X9': [160, 6227, 23990, 23991, 23992, 24123, 24365, 29832, 29833], 'X10': [49, 233, 6227, 6268, 6269, 6270, 6382, 6383, 6384, 24123, 24365, 29733, 29734, 29735, 29832, 29833], 'X11': [6227, 6268, 6269, 6270, 6382, 6383, 6384, 24123, 24365, 29733, 29734, 29735, 29832, 29833]}\n",
            "Indexes que contienen valores:  [29832, 29833, 17989, 18003, 160, 23990, 23991, 23992, 49, 233, 6268, 6269, 6270, 6382, 6383, 6384, 29733, 29734, 29735]\n",
            "Indexes que no contienen valores en todas las columnas:  [6227, 24123, 24365]\n"
          ]
        }
      ]
    },
    {
      "cell_type": "markdown",
      "source": [
        "Realizamos lo mismo con las otras columnas, pero en vez de utilizar la mediana se utilizará el promedio debedido a que corresponde a cantidades de dinero"
      ],
      "metadata": {
        "id": "qDWnFPapisvF"
      }
    },
    {
      "cell_type": "markdown",
      "source": [
        "**X12-X17**"
      ],
      "metadata": {
        "id": "e-8Gtgk3i9Ft"
      }
    },
    {
      "cell_type": "code",
      "source": [
        "# Buscamos la posión en donde se encuentran los datos faltantes\n",
        "null_values_position = {}\n",
        "columns = ['X12', 'X13', 'X14', 'X15', 'X16', 'X17']\n",
        "for column in columns:\n",
        "  null_values_position[column] = []\n",
        "  for idx, value in enumerate(filled_df[column].isnull()):\n",
        "    if value:\n",
        "      null_values_position[column].append(idx)\n",
        "print('Indexes de columnas con valores vacios: ', null_values_position)\n",
        "\n",
        "# Revisamos en que columnas no hay valores para hacer un promedio\n",
        "indexes_with_vals = []\n",
        "for indexes in null_values_position.values():\n",
        "  for index in indexes:\n",
        "    for indexes in null_values_position.values():\n",
        "      if index not in indexes:\n",
        "        if index not in indexes_with_vals:\n",
        "          indexes_with_vals.append(index)\n",
        "        break\n",
        "    else:\n",
        "      if index not in indexes_without_vals:\n",
        "        indexes_without_vals.append(index)\n",
        "# Contruimos las listas de los indexes que tienen valores y los que no hay valores\n",
        "print('Indexes que contienen valores: ', indexes_with_vals)\n",
        "print('Indexes que no contienen valores en todas las columnas: ',\n",
        "      indexes_without_vals)\n",
        "\n",
        "# Para los otros indexes rellanamos los valores con la media debido a que \n",
        "# son valores enteros este tipo de columnas\n",
        "for index in indexes_with_vals:\n",
        "  values_to_mean = []\n",
        "  for column in columns:\n",
        "    if index in null_values_position[column]:\n",
        "      continue\n",
        "    values_to_mean.append(filled_df[column].iloc[index])\n",
        "  # Sacamos el promedio de los valores que se tienen\n",
        "  mean_value = np.mean(values_to_mean)\n",
        "  for column in columns:\n",
        "    if index in null_values_position[column]:\n",
        "      try:\n",
        "        filled_df.replace({filled_df.at[index, column]:mean_value}, \n",
        "                          inplace=True)\n",
        "      except:\n",
        "        continue"
      ],
      "metadata": {
        "colab": {
          "base_uri": "https://localhost:8080/"
        },
        "id": "ia7JMeVCi1jK",
        "outputId": "0384af28-06b9-4361-dbfc-0b0749fb88ce"
      },
      "execution_count": 177,
      "outputs": [
        {
          "output_type": "stream",
          "name": "stdout",
          "text": [
            "Indexes de columnas con valores vacios:  {'X12': [], 'X13': [], 'X14': [], 'X15': [], 'X16': [], 'X17': []}\n",
            "Indexes que contienen valores:  []\n",
            "Indexes que no contienen valores en todas las columnas:  [6227, 24123, 24365]\n"
          ]
        }
      ]
    },
    {
      "cell_type": "markdown",
      "source": [
        "**X18-X23**"
      ],
      "metadata": {
        "id": "hkorDwvynvCg"
      }
    },
    {
      "cell_type": "code",
      "source": [
        "# Buscamos la posión en donde se encuentran los datos faltantes\n",
        "null_values_position = {}\n",
        "columns = ['X18', 'X19', 'X20', 'X21', 'X22', 'X23']\n",
        "for column in columns:\n",
        "  null_values_position[column] = []\n",
        "  for idx, value in enumerate(filled_df[column].isnull()):\n",
        "    if value:\n",
        "      null_values_position[column].append(idx)\n",
        "print('Indexes de columnas con valores vacios: ', null_values_position)\n",
        "\n",
        "# Revisamos en que columnas no hay valores para hacer un promedio\n",
        "indexes_with_vals = []\n",
        "for indexes in null_values_position.values():\n",
        "  for index in indexes:\n",
        "    for indexes in null_values_position.values():\n",
        "      if index not in indexes:\n",
        "        if index not in indexes_with_vals:\n",
        "          indexes_with_vals.append(index)\n",
        "        break\n",
        "    else:\n",
        "      if index not in indexes_without_vals:\n",
        "        indexes_without_vals.append(index)\n",
        "# Contruimos las listas de los indexes que tienen valores y los que no hay valores\n",
        "print('Indexes que contienen valores: ', indexes_with_vals)\n",
        "print('Indexes que no contienen valores en todas las columnas: ',\n",
        "      indexes_without_vals)\n",
        "\n",
        "# Para los otros indexes rellanamos los valores con la media debido a que \n",
        "# son valores enteros este tipo de columnas\n",
        "for index in indexes_with_vals:\n",
        "  values_to_mean = []\n",
        "  for column in columns:\n",
        "    if index in null_values_position[column]:\n",
        "      continue\n",
        "    values_to_mean.append(filled_df[column].iloc[index])\n",
        "  # Sacamos el promedio de los valores que se tienen\n",
        "  mean_value = np.mean(values_to_mean)\n",
        "  for column in columns:\n",
        "    if index in null_values_position[column]:\n",
        "      try:\n",
        "        filled_df.replace({filled_df.at[index, column]:mean_value}, \n",
        "                          inplace=True)\n",
        "      except:\n",
        "        continue"
      ],
      "metadata": {
        "colab": {
          "base_uri": "https://localhost:8080/"
        },
        "id": "Ltmw7KQ-nuiJ",
        "outputId": "9b41dbe9-7e90-4f3f-ba25-54602f0c701e"
      },
      "execution_count": 178,
      "outputs": [
        {
          "output_type": "stream",
          "name": "stdout",
          "text": [
            "Indexes de columnas con valores vacios:  {'X18': [], 'X19': [], 'X20': [], 'X21': [], 'X22': [], 'X23': []}\n",
            "Indexes que contienen valores:  []\n",
            "Indexes que no contienen valores en todas las columnas:  [6227, 24123, 24365]\n"
          ]
        }
      ]
    },
    {
      "cell_type": "code",
      "source": [
        "# Los que no tienen valores la mejor opción es eliminarlos ya que no aportaran\n",
        "# nada al entrenamiento\n",
        "filled_df.drop(indexes_without_vals, axis=0, inplace=True)\n",
        "print_df_reduction(filled_df)\n",
        "print(filled_df.loc[29834, 'X7'])"
      ],
      "metadata": {
        "colab": {
          "base_uri": "https://localhost:8080/"
        },
        "id": "uhTjfXecld6D",
        "outputId": "b0286a9a-8101-4085-945b-5cd42a3f55dd"
      },
      "execution_count": 179,
      "outputs": [
        {
          "output_type": "stream",
          "name": "stdout",
          "text": [
            "Tamaño de dataframe original:  720000\n",
            "Tamaño de DataFrame al quitar filas con valores faltantes:  719928\n",
            "Filas removidas:  72\n",
            "Porcentaje removido:  0.01\n",
            "0.75\n"
          ]
        }
      ]
    },
    {
      "cell_type": "markdown",
      "source": [
        "Por ultimo revisamos si quedan valores con null en nuestro dataset"
      ],
      "metadata": {
        "id": "2RgOF-n0om8N"
      }
    },
    {
      "cell_type": "code",
      "source": [
        "filled_df[filled_df.isnull().values==True]"
      ],
      "metadata": {
        "colab": {
          "base_uri": "https://localhost:8080/",
          "height": 110
        },
        "id": "_5vhE6GCocEJ",
        "outputId": "eb09dd42-db5e-4794-d135-f930f8d8a224"
      },
      "execution_count": 180,
      "outputs": [
        {
          "output_type": "execute_result",
          "data": {
            "text/plain": [
              "Empty DataFrame\n",
              "Columns: [X1, X2, X3, X4, X5, X6, X7, X8, X9, X10, X11, X12, X13, X14, X15, X16, X17, X18, X19, X20, X21, X22, X23, Y]\n",
              "Index: []\n",
              "\n",
              "[0 rows x 24 columns]"
            ],
            "text/html": [
              "\n",
              "  <div id=\"df-e2a45d3e-239c-4cf0-a069-3634a9c34cce\">\n",
              "    <div class=\"colab-df-container\">\n",
              "      <div>\n",
              "<style scoped>\n",
              "    .dataframe tbody tr th:only-of-type {\n",
              "        vertical-align: middle;\n",
              "    }\n",
              "\n",
              "    .dataframe tbody tr th {\n",
              "        vertical-align: top;\n",
              "    }\n",
              "\n",
              "    .dataframe thead th {\n",
              "        text-align: right;\n",
              "    }\n",
              "</style>\n",
              "<table border=\"1\" class=\"dataframe\">\n",
              "  <thead>\n",
              "    <tr style=\"text-align: right;\">\n",
              "      <th></th>\n",
              "      <th>X1</th>\n",
              "      <th>X2</th>\n",
              "      <th>X3</th>\n",
              "      <th>X4</th>\n",
              "      <th>X5</th>\n",
              "      <th>X6</th>\n",
              "      <th>X7</th>\n",
              "      <th>X8</th>\n",
              "      <th>X9</th>\n",
              "      <th>X10</th>\n",
              "      <th>...</th>\n",
              "      <th>X15</th>\n",
              "      <th>X16</th>\n",
              "      <th>X17</th>\n",
              "      <th>X18</th>\n",
              "      <th>X19</th>\n",
              "      <th>X20</th>\n",
              "      <th>X21</th>\n",
              "      <th>X22</th>\n",
              "      <th>X23</th>\n",
              "      <th>Y</th>\n",
              "    </tr>\n",
              "    <tr>\n",
              "      <th>ID</th>\n",
              "      <th></th>\n",
              "      <th></th>\n",
              "      <th></th>\n",
              "      <th></th>\n",
              "      <th></th>\n",
              "      <th></th>\n",
              "      <th></th>\n",
              "      <th></th>\n",
              "      <th></th>\n",
              "      <th></th>\n",
              "      <th></th>\n",
              "      <th></th>\n",
              "      <th></th>\n",
              "      <th></th>\n",
              "      <th></th>\n",
              "      <th></th>\n",
              "      <th></th>\n",
              "      <th></th>\n",
              "      <th></th>\n",
              "      <th></th>\n",
              "      <th></th>\n",
              "    </tr>\n",
              "  </thead>\n",
              "  <tbody>\n",
              "  </tbody>\n",
              "</table>\n",
              "<p>0 rows × 24 columns</p>\n",
              "</div>\n",
              "      <button class=\"colab-df-convert\" onclick=\"convertToInteractive('df-e2a45d3e-239c-4cf0-a069-3634a9c34cce')\"\n",
              "              title=\"Convert this dataframe to an interactive table.\"\n",
              "              style=\"display:none;\">\n",
              "        \n",
              "  <svg xmlns=\"http://www.w3.org/2000/svg\" height=\"24px\"viewBox=\"0 0 24 24\"\n",
              "       width=\"24px\">\n",
              "    <path d=\"M0 0h24v24H0V0z\" fill=\"none\"/>\n",
              "    <path d=\"M18.56 5.44l.94 2.06.94-2.06 2.06-.94-2.06-.94-.94-2.06-.94 2.06-2.06.94zm-11 1L8.5 8.5l.94-2.06 2.06-.94-2.06-.94L8.5 2.5l-.94 2.06-2.06.94zm10 10l.94 2.06.94-2.06 2.06-.94-2.06-.94-.94-2.06-.94 2.06-2.06.94z\"/><path d=\"M17.41 7.96l-1.37-1.37c-.4-.4-.92-.59-1.43-.59-.52 0-1.04.2-1.43.59L10.3 9.45l-7.72 7.72c-.78.78-.78 2.05 0 2.83L4 21.41c.39.39.9.59 1.41.59.51 0 1.02-.2 1.41-.59l7.78-7.78 2.81-2.81c.8-.78.8-2.07 0-2.86zM5.41 20L4 18.59l7.72-7.72 1.47 1.35L5.41 20z\"/>\n",
              "  </svg>\n",
              "      </button>\n",
              "      \n",
              "  <style>\n",
              "    .colab-df-container {\n",
              "      display:flex;\n",
              "      flex-wrap:wrap;\n",
              "      gap: 12px;\n",
              "    }\n",
              "\n",
              "    .colab-df-convert {\n",
              "      background-color: #E8F0FE;\n",
              "      border: none;\n",
              "      border-radius: 50%;\n",
              "      cursor: pointer;\n",
              "      display: none;\n",
              "      fill: #1967D2;\n",
              "      height: 32px;\n",
              "      padding: 0 0 0 0;\n",
              "      width: 32px;\n",
              "    }\n",
              "\n",
              "    .colab-df-convert:hover {\n",
              "      background-color: #E2EBFA;\n",
              "      box-shadow: 0px 1px 2px rgba(60, 64, 67, 0.3), 0px 1px 3px 1px rgba(60, 64, 67, 0.15);\n",
              "      fill: #174EA6;\n",
              "    }\n",
              "\n",
              "    [theme=dark] .colab-df-convert {\n",
              "      background-color: #3B4455;\n",
              "      fill: #D2E3FC;\n",
              "    }\n",
              "\n",
              "    [theme=dark] .colab-df-convert:hover {\n",
              "      background-color: #434B5C;\n",
              "      box-shadow: 0px 1px 3px 1px rgba(0, 0, 0, 0.15);\n",
              "      filter: drop-shadow(0px 1px 2px rgba(0, 0, 0, 0.3));\n",
              "      fill: #FFFFFF;\n",
              "    }\n",
              "  </style>\n",
              "\n",
              "      <script>\n",
              "        const buttonEl =\n",
              "          document.querySelector('#df-e2a45d3e-239c-4cf0-a069-3634a9c34cce button.colab-df-convert');\n",
              "        buttonEl.style.display =\n",
              "          google.colab.kernel.accessAllowed ? 'block' : 'none';\n",
              "\n",
              "        async function convertToInteractive(key) {\n",
              "          const element = document.querySelector('#df-e2a45d3e-239c-4cf0-a069-3634a9c34cce');\n",
              "          const dataTable =\n",
              "            await google.colab.kernel.invokeFunction('convertToInteractive',\n",
              "                                                     [key], {});\n",
              "          if (!dataTable) return;\n",
              "\n",
              "          const docLinkHtml = 'Like what you see? Visit the ' +\n",
              "            '<a target=\"_blank\" href=https://colab.research.google.com/notebooks/data_table.ipynb>data table notebook</a>'\n",
              "            + ' to learn more about interactive tables.';\n",
              "          element.innerHTML = '';\n",
              "          dataTable['output_type'] = 'display_data';\n",
              "          await google.colab.output.renderOutput(dataTable, element);\n",
              "          const docLink = document.createElement('div');\n",
              "          docLink.innerHTML = docLinkHtml;\n",
              "          element.appendChild(docLink);\n",
              "        }\n",
              "      </script>\n",
              "    </div>\n",
              "  </div>\n",
              "  "
            ]
          },
          "metadata": {},
          "execution_count": 180
        }
      ]
    },
    {
      "cell_type": "markdown",
      "source": [
        "Al no haber datos vacios y solo haber eliminado 72 filas de toda el dataset se puede decir que se hizo una buena limpieza de datos."
      ],
      "metadata": {
        "id": "mmMhRBzwouX-"
      }
    },
    {
      "cell_type": "code",
      "source": [
        "filled_df.isnull().sum()"
      ],
      "metadata": {
        "colab": {
          "base_uri": "https://localhost:8080/"
        },
        "id": "Eq9KSVPxo6uB",
        "outputId": "0559fcb0-7bae-4a6f-88e5-6100664258cb"
      },
      "execution_count": 181,
      "outputs": [
        {
          "output_type": "execute_result",
          "data": {
            "text/plain": [
              "X1     0\n",
              "X2     0\n",
              "X3     0\n",
              "X4     0\n",
              "X5     0\n",
              "X6     0\n",
              "X7     0\n",
              "X8     0\n",
              "X9     0\n",
              "X10    0\n",
              "X11    0\n",
              "X12    0\n",
              "X13    0\n",
              "X14    0\n",
              "X15    0\n",
              "X16    0\n",
              "X17    0\n",
              "X18    0\n",
              "X19    0\n",
              "X20    0\n",
              "X21    0\n",
              "X22    0\n",
              "X23    0\n",
              "Y      0\n",
              "dtype: int64"
            ]
          },
          "metadata": {},
          "execution_count": 181
        }
      ]
    },
    {
      "cell_type": "markdown",
      "source": [
        "# **Parte 3: Preparación de los datos**"
      ],
      "metadata": {
        "id": "PD7QVMJJpSW9"
      }
    },
    {
      "cell_type": "markdown",
      "source": [
        "\n",
        "\n",
        "1.   ¿Qué datos considero mas importantes? ¿Por qué?\n",
        "2.   ¿Se eliminaron o reemplazaron datos nulos? ¿Qué se hizo y por qué?\n",
        "3.   ¿Es necesario ordenar los datos para el análisis? Sí / No / ¿Por qué?\n",
        "4.   ¿Existen problemas de formato que deban solucionar antes del proceso de modelado? Sí / No / Por qué.\n",
        "5.   ¿Qué ajustes se realizaron en el proceso de limpieza de datos (agregar, integrar, eliminar, modificar registros (filas), cambiar atributos (columnas)?\n",
        "\n"
      ],
      "metadata": {
        "id": "uSfAqvIUpXw1"
      }
    },
    {
      "cell_type": "markdown",
      "source": [
        "Entendiendo que los datos son para aprobar tarjetas de crédito, se podría decir que el historial crediticio de los sujetos es de suma relevancia, por lo que las columnas que involucran hábitos de pagos serían las primordiales de conservar, en este caso de la columna X6 a la X23. Cabe mencionar que las otras columnas no es que no sean de relevancia, simplemente estos datos pueden pasar en segundo plano, como lo es la edad, el género, escolaridad, etc. \n",
        "\n",
        "  Por esto en la limpieza de datos, se tuvo cuidado para eliminar filas, solo se eliminaron los datos que faltaban valores completos de los grupos de hábitos de pago, sin embargo, para los meses en específico que no había datos, se utilizó la mejor operación con referencia al tipo de dato (mediana o promedio).  Para este tipo de base de datos, no fue necesario ordenar los datos, ya que la idea es analizar los valores con referencia a los hábitos de pago en general, no se necesita segmentar antes del procesamiento. \n",
        "\n",
        "  El formato de los datos es el correcto, ya que todos los datos estaban en los rangos establecidos por el tipo de columnas; no obstante, se tuvo que controlar y reducir los datos faltantes, a pesar de que no representaban una cantidad significante con el tamaño de la base de datos, se consideró que se podían rescatar para aportar. Es por eso por lo que primero se hizo un promedio de las columnas que tenían relación por cada sujeto, en este caso se agruparon 3 valores principales:  X6 a la X11, X12 a la X17, y X18 a la X23; para el primer grupo se utilizó la media, debido a que se esperaba un tipo entero, mientras que los otros dos grupos se utilizó el promedio porque eran cantidades de dinero. Cabe mencionar que se fueron identificando las columnas que no se tenía ningún valor en cada grupo, por lo que no era posible obtener una cantidad aproximada, por lo que se decidió que para este tipo de casos eliminar esas filas en específico porque no iba a aportar nada en caso de que se requiera utilizar esta base de datos para entrenar un modelo. Ya que al considerarse este tipo de columnas como las más importantes para determinar si un sujeto es buena opción para entregar una tarjeta de crédito o no, estaríamos entrenando valores inválidos que pudieran generar ruido en el modelo. \n",
        "  \n",
        "  Para concluir, se puede resumir esta limpieza de datos en 5 puntos: análisis de datos, interpolar valores perdidos por grupo relacionado, generalizar valores perdidos en características del sujeto, eliminar filas que no posean los datos de los grupos más importantes y revisión de la base de datos final.\n"
      ],
      "metadata": {
        "id": "OE-9rvyitqu8"
      }
    }
  ]
}