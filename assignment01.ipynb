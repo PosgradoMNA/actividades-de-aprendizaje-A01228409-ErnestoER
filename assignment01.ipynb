{
  "nbformat": 4,
  "nbformat_minor": 0,
  "metadata": {
    "colab": {
      "provenance": []
    },
    "kernelspec": {
      "name": "python3",
      "display_name": "Python 3"
    },
    "language_info": {
      "name": "python"
    }
  },
  "cells": [
    {
      "cell_type": "code",
      "execution_count": null,
      "metadata": {
        "id": "LzUSMM79NR9P",
        "outputId": "96057e67-1883-48d7-d819-0ba7b9b557ae",
        "colab": {
          "base_uri": "https://localhost:8080/"
        }
      },
      "outputs": [
        {
          "output_type": "stream",
          "name": "stdout",
          "text": [
            "Hello Python 101\n"
          ]
        }
      ],
      "source": [
        "# Print Statement -> \\n new line \n",
        "print(\"Hello Python 101\")"
      ]
    },
    {
      "cell_type": "code",
      "source": [
        "# Types\n",
        "# int (1, 2, 3, -1)\n",
        "# float (1.05, 1.1, 2.006)\n",
        "# str (\"hola mundo\")\n",
        "# bool (True/False)\n",
        "# type casting (change variable type int(float), int(str), str(float))\n",
        "int(1.005)"
      ],
      "metadata": {
        "id": "mxM_WppZPMFx"
      },
      "execution_count": null,
      "outputs": []
    },
    {
      "cell_type": "code",
      "source": [
        "# Math operations\n",
        "print(25/6)\n",
        "print(25//6)\n",
        "print(25%6)\n",
        "print(2+30*5)\n",
        "print(2+(30*5))"
      ],
      "metadata": {
        "id": "1THm4by3PW96",
        "outputId": "4d0dde70-fab1-4ec0-fdc8-32d48ee2845f",
        "colab": {
          "base_uri": "https://localhost:8080/"
        }
      },
      "execution_count": null,
      "outputs": [
        {
          "output_type": "stream",
          "name": "stdout",
          "text": [
            "4.166666666666667\n",
            "4\n",
            "1\n",
            "152\n",
            "152\n"
          ]
        }
      ]
    },
    {
      "cell_type": "code",
      "source": [
        "# Variables\n",
        "var_name = 10\n",
        "multiplication_result = 5 * var_name\n",
        "print(multiplication_result)"
      ],
      "metadata": {
        "id": "iKd6Zcd_QIg8",
        "outputId": "ed54539b-842a-4a60-e3e2-d42b9a055c7e",
        "colab": {
          "base_uri": "https://localhost:8080/"
        }
      },
      "execution_count": null,
      "outputs": [
        {
          "output_type": "stream",
          "name": "stdout",
          "text": [
            "50\n"
          ]
        }
      ]
    },
    {
      "cell_type": "code",
      "source": [
        "# strings\n",
        "str_1 = \"Michael Jackson\"\n",
        "str_1[-1]  #Last char\n",
        "str_1[:4] #First four chars\n",
        "str_1[::2] # return every 2 step char\n",
        "str_1[2:5]\n",
        "# add a tab into str \\t\n",
        "upper(str_1) # all capital letters\n",
        "lower(str_1) # lower cases\n"
      ],
      "metadata": {
        "id": "88ZwMnjVRlw0"
      },
      "execution_count": null,
      "outputs": []
    },
    {
      "cell_type": "code",
      "source": [
        "# Tuples\n",
        "tuple_cast = tuple()\n",
        "tuple_1 = (0, 4, 3)\n",
        "tuple_2 = (2, 1, 5)\n",
        "tuple_3 = tuple_1 + tuple_2\n",
        "len(tuple_3)\n",
        "print(sorted(tuple_3))\n",
        "tuple_nest = ([0, 1, 2], (True, False))\n",
        "\n",
        "# List\n",
        "list_cast = list()\n",
        "list_1 = [3, 2, 1]\n",
        "list_2 = [4, 5, 6]\n",
        "list_3 = list()\n",
        "list_3.extend(list_1)\n",
        "list_3.extend(list_2) # Sum 2 lists\n",
        "print(list_3)\n",
        "\"A, B, C\".split(',') # Create a list from a string, parameter is symbol to split\n",
        "list_3.append(7) # Add an element\n",
        "help(list)\n"
      ],
      "metadata": {
        "id": "bAH8umQiTU1j",
        "outputId": "b3039622-6d9a-41d8-bdc1-84a5b2293417",
        "colab": {
          "base_uri": "https://localhost:8080/"
        }
      },
      "execution_count": null,
      "outputs": [
        {
          "output_type": "stream",
          "name": "stdout",
          "text": [
            "[0, 1, 2, 3, 4, 5]\n",
            "[3, 2, 1, 4, 5, 6]\n"
          ]
        },
        {
          "output_type": "execute_result",
          "data": {
            "text/plain": [
              "['A', ' B', ' C']"
            ]
          },
          "metadata": {},
          "execution_count": 13
        }
      ]
    },
    {
      "cell_type": "code",
      "source": [
        "# Sets\n",
        "# duplicate items are not possible\n",
        "set_cast = set()\n",
        "set_1 = {'hola', 'mundo'}\n",
        "'hola' in set_1 # Return True if exist on set otherwise return False\n",
        "# & all items containing in two sets\n",
        "# .issubset check if a set is containing in another set\n",
        "# .union add two sets"
      ],
      "metadata": {
        "id": "KaGcZL_NWrAV"
      },
      "execution_count": null,
      "outputs": []
    },
    {
      "cell_type": "code",
      "source": [
        "# Dictionary\n",
        "# {key: value}\n",
        "dict_cast = dict()\n",
        "dict_1 = {1: 'hola', 2: 'mundo'}\n",
        "print(dict_1[1] + ' ' + dict_1[2])\n",
        "# .values -> get all dict values\n",
        "# .keys -> get all keys values"
      ],
      "metadata": {
        "id": "xpagxjtYjrD7",
        "outputId": "e1cc97be-7f3f-4f86-cd5a-97b4a4a3ae05",
        "colab": {
          "base_uri": "https://localhost:8080/"
        }
      },
      "execution_count": null,
      "outputs": [
        {
          "output_type": "stream",
          "name": "stdout",
          "text": [
            "hola mundo\n"
          ]
        }
      ]
    },
    {
      "cell_type": "code",
      "source": [
        "# Condition and branching\n",
        "# operators >, <, <=, >=, ==, !=, or, and, not in, in Returns True/False\n",
        "var = 10\n",
        "if var < 11:\n",
        "  print(f'{var} es menor a 11')\n",
        "elif var == 11:\n",
        "  print(f'{var} es 11')\n",
        "else:\n",
        "  print(f'{var} es mayor a 11')"
      ],
      "metadata": {
        "id": "Ja6WX8JQqA2d"
      },
      "execution_count": null,
      "outputs": []
    },
    {
      "cell_type": "code",
      "source": [
        "# Loops\n",
        "# range (10, 15) -> 10, 11, 12, 13, 14\n",
        "squares = [1, 1, 1, 1, 1, 2, 3]\n",
        "# for indx, square in enumerate(squares):\n",
        "for indx in range(0, len(squares)):  \n",
        "  squares[indx] = 0\n",
        "\n",
        "print(squares)\n",
        "\n",
        "# while\n",
        "i = 0\n",
        "list_1 = list()\n",
        "while(i < 5):\n",
        "  list_1.append(squares[i])\n",
        "  i+=1\n",
        "print(list_1)"
      ],
      "metadata": {
        "id": "ccWHpETyrrP6",
        "outputId": "5772f9f4-9d32-4370-8c71-fce6c155d6e1",
        "colab": {
          "base_uri": "https://localhost:8080/"
        }
      },
      "execution_count": null,
      "outputs": [
        {
          "output_type": "stream",
          "name": "stdout",
          "text": [
            "[0, 0, 0, 0, 0, 0, 0]\n",
            "[0, 0, 0, 0, 0]\n"
          ]
        }
      ]
    },
    {
      "cell_type": "code",
      "source": [
        "# Functions\n",
        "# def function(a, parameters):\n",
        "#   return b\n",
        "def is_cat(animal):\n",
        "  \"\"\" Docstring, function definition\n",
        "  \"\"\"\n",
        "  if animal =='cat':\n",
        "    return True\n",
        "  return False\n",
        "\n",
        "animals = ['dog', 'frog', 'cat', 'bear']\n",
        "for indx, animal in enumerate(animals):\n",
        "  if is_cat(animal):\n",
        "    print(f'{animal} was found in index {indx}')\n",
        "\n",
        "# Collecting arguments\n",
        "def artistNames(*names):\n",
        "  for name in names:\n",
        "    print(name)\n",
        "\n",
        "artistNames(\"Michael Jackson\", \"Pepe Aguilar\", \"Criss\")\n",
        "\n",
        "# Global variable, assign outside scope, can be used for any function\n",
        "# Local variable, can be only used internally of a function. "
      ],
      "metadata": {
        "id": "PiNv7Uodt8_n",
        "outputId": "f2ff65a2-38a9-45d3-bd31-55791648c183",
        "colab": {
          "base_uri": "https://localhost:8080/"
        }
      },
      "execution_count": null,
      "outputs": [
        {
          "output_type": "stream",
          "name": "stdout",
          "text": [
            "cat was found in index 2\n",
            "Michael Jackson\n",
            "Pepe Aguilar\n",
            "Criss\n"
          ]
        }
      ]
    },
    {
      "cell_type": "code",
      "source": [
        "# Object and Classes\n",
        "class Circle(object):\n",
        "  def __init__(self, radius, color):\n",
        "    self.radius=radius\n",
        "    self.color=color\n",
        "  # Method class\n",
        "  def add_radius(self, r):\n",
        "      self.radius=self.radius+r\n",
        "  def get_area(self):\n",
        "    pi=3.1416\n",
        "    return self.radius*self.radius*pi\n",
        "\n",
        "class Rectangle(object):\n",
        "    def __init__(self, heigth, weight, color):\n",
        "      self.heigth=heigth\n",
        "      self.weight=weight\n",
        "      self.color=color\n",
        "    def get_area(self):\n",
        "      return self.heigth*self.weight\n",
        "\n",
        "RedCircle = Circle(10, \"red\")\n",
        "BlueRectangle = Rectangle(10, 2, \"blue\")\n",
        "print(RedCircle.color)\n",
        "print(BlueRectangle.color)\n",
        "print(BlueRectangle.get_area())\n",
        "print(RedCircle.get_area())"
      ],
      "metadata": {
        "id": "S4637yDzwqDy",
        "outputId": "e18dcbd5-dc89-48f9-8737-198a37ae7ee3",
        "colab": {
          "base_uri": "https://localhost:8080/"
        }
      },
      "execution_count": null,
      "outputs": [
        {
          "output_type": "stream",
          "name": "stdout",
          "text": [
            "red\n",
            "blue\n",
            "20\n"
          ]
        }
      ]
    }
  ]
}